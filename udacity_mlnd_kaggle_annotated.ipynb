{
 "cells": [
  {
   "cell_type": "markdown",
   "metadata": {},
   "source": [
    "# Quora question pairs competition - 2017/06\n",
    "\n",
    "## Introduction\n",
    "* The Kaggle competition *Quora Question Pairs* provides a data set of 404,288 question pairs with the task of identifying duplicate questions. A succesful model will take a question pair and predict whether the two questions comprising the pair are duplicates or equivalent questions.\n",
    "* I chose this competition for my capstone project for several reasons. The MLND curriculum did not touch on natural language processing (NLP) at all and I wanted to gain some experience in this area of machine learning. Choosing a Kaggle competition seemed a good choice as this provides both a well scrutinized data set as well as a benchmark for my project. I specifically decided against an image processing project as this did not seem feasible to do on a low-perfromance laptop machine. When writing my project proposal I did not appreaciate the computational needs for NLP tasks and ended up having to run my script on AWS EC2 instances.\n",
    "* This script is distinct from - though similar to - my submission to the Kaggle competition. The primary reason for this is that the Kaggle competition is scored or validated with a test data set that is separate form the training data set. While this obviously means that the data splitting for the training and validation steps will be different, the specific circumstances of the data used here result in additional differences. The original test data do not contain any true labels to enable the Kaggle team to score submissions without participants cheating. The two data sets (train and test) are not just random subsets of their pool of question pairs though. The test data set contains a significant amount of computer-generated questions - again used to prevent cheating. The patterns of these computer-generated questions are considerably different from the training data though. This means that scripts used to compete in the Kaggle competition have 'hand crafted' features (including both thei weight of duplicate questions and text processing steps) that are geared toward getting good scores on the test data set. In this submission, the only data used are from the *train.csv* file provided by Quora through Kaggle and all data processing is aimed at modeling these data as well as possible.\n",
    "* In my capstone project proposal, I suggested that using a gradient boosting mechanism might be the best algorithm to model this NLP problem. After initially building a solution that used XGboost, I decided to swithc and use a deep learning recurrent network using Keras though. While the best solutions for the Kaggle competition are indeed making use of XGboost - indicating it is a good choice - my motive here was mostly to gain more experience with Keras as well as gpu instances on AWS EC2.\n",
    "* For this project, I used Python 3.6, Keras 2.0.2, and tensorflow-gpu 1.0.1 on a linux machine. One reason for using Python 3.6 was to enable execution of this script also on Windows systems where the tensorflow gpu version does not play well with Python 2.x as far as I know.\n",
    "\n",
    "## Project scope and workflow\n",
    "\n",
    "The Kaggle competition *Quora Question Pairs* provides a data set of 404,288 question pairs with the task of identifying duplicate questions. A succesful model will take a question pair and predict whether the two questions comprising the pair are duplicates or equivalent questions. For training purposes, the data set contains a column *is_duplicate*, labelling pairs as duplicates. For scoring of the Kaggle competition, the trained model is run on a *test* dataset and the result submitted to Kaggle for scoring. Since the *test* set does not contain the duplication label, any independent accuracy score will have to be calculated on the original *train* dataset.  \n",
    "For this purpose, the original *train* data will be split into training and testing subsets, on which I can train and validate the model. A comparison between this sccuracy and the accuracy calculated by Kaggle based on the original *test* set seems prudent and will be provided at the end.  \n",
    "The task covered here is my first NLP project. While building the classifier will be very similar to other machine learning problems, the data processing steps necessary are specific to language processing and crucial to a well performing model.  \n",
    "After experimenting with a variety of different libraries, my workflow for this project is as follows.\n",
    "* Load the data\n",
    " * While two files, *train.csv* and *test.csv* are provided by Kaggle, for the MLND realization of this project, only the train data can be utilized. Hence this data as to be split up in train and test subsets.\n",
    "* Process the data\n",
    " * To make the data accessible to a machine learning classifier, the question pairs have to be processed and normalized.\n",
    " * Attributes like case and punctuation are generally not informative but enlarge the feauter space. After extracting all words of a question, it is prudent to reduce those to their lemmas, as those minimize the feature space while retaining - almost - all meaning of the original words.\n",
    " * Removing stop words - i.e. often redundant and very frequent words - seemed tempting to reduce the feauter space further but actually proved to decrease the model accuracy.\n",
    " * Weigh duplicates and non-duplicates given that they are not equally frequent in the data used here.\n",
    " * Embedding the questions into word vectors. This is the nlp equivalent of one-hot-encoding to convert the words into an input suitable for a neural network. Several libraries are available for this, with the most popular being nltk. I opted for using the spacy module with one of the reasons being a pipe() method optimizing tokenizing the text on multiprocessor systems. Spacy uses the Glove vectors for embedding words just like nltk, but comes with its own vocabulary and does offer mode avanced semantic analysis that I initially thought might be helpful but didn't utilize in the final implementation.\n",
    "* Create and train a model to classify all question pairs\n",
    " * I chose a recurrent neural network to model this problem. To add long-term memory, I used a Long-Short-Term-Memory (LSTM) layer provided by Keras. There are are multitudes of somewhat suitable options for neural network layer combinations. The LSTM layer - following an embedding layer for the word vectors - showed up in my initial research to be efficient for text analysis and comparisons. Variations in layer combinations I tried were mostly focussing on whn to combine the two questions comprising a pair within the neural network stack and what compromise between depth of the stack and number of features to pick while keeping computational time reasonable."
   ]
  },
  {
   "cell_type": "code",
   "execution_count": 1,
   "metadata": {
    "collapsed": true,
    "jupyter": {
     "outputs_hidden": true
    }
   },
   "outputs": [],
   "source": [
    "# Ipython stuff\n",
    "%matplotlib inline"
   ]
  },
  {
   "cell_type": "code",
   "execution_count": 2,
   "metadata": {
    "collapsed": false,
    "jupyter": {
     "outputs_hidden": false
    }
   },
   "outputs": [
    {
     "name": "stderr",
     "output_type": "stream",
     "text": [
      "/home/seb/anaconda2/envs/py36/lib/python3.6/site-packages/sklearn/cross_validation.py:44: DeprecationWarning: This module was deprecated in version 0.18 in favor of the model_selection module into which all the refactored classes and functions are moved. Also note that the interface of the new CV iterators are different from that of this module. This module will be removed in 0.20.\n",
      "  \"This module will be removed in 0.20.\", DeprecationWarning)\n",
      "Using TensorFlow backend.\n"
     ]
    }
   ],
   "source": [
    "# Generic imports\n",
    "import numpy as np\n",
    "import pandas as pd\n",
    "import os\n",
    "from time import time, localtime\n",
    "import urllib\n",
    "import requests\n",
    "import zipfile\n",
    "import matplotlib.pyplot as plt\n",
    "import re\n",
    "import pickle\n",
    "from scipy.sparse import csr_matrix as csr\n",
    "import multiprocessing\n",
    "import random\n",
    "\n",
    "# language related imports\n",
    "import string\n",
    "# from nltk.stem.wordnet import WordNetLemmatizer\n",
    "# from nltk.tokenize import wordpunct_tokenize, RegexpTokenizer\n",
    "from gensim import models # Contains the Word2Vec model\n",
    "import spacy\n",
    "from sklearn.feature_extraction.text import TfidfTransformer, TfidfVectorizer, CountVectorizer\n",
    "\n",
    "#ML related imports\n",
    "from sklearn.model_selection import train_test_split, KFold\n",
    "import xgboost as xgb\n",
    "\n",
    "# Keras specific imports\n",
    "from gensim.models import KeyedVectors\n",
    "from keras.preprocessing.text import Tokenizer\n",
    "from keras.preprocessing.sequence import pad_sequences\n",
    "from keras.layers import Dense, Input, LSTM, Embedding, Dropout, Activation, MaxoutDense\n",
    "from keras.layers.merge import concatenate\n",
    "from keras.models import Model, Sequential\n",
    "from keras.layers.normalization import BatchNormalization\n",
    "from keras.callbacks import EarlyStopping, ModelCheckpoint"
   ]
  },
  {
   "cell_type": "code",
   "execution_count": 3,
   "metadata": {
    "collapsed": true,
    "jupyter": {
     "outputs_hidden": true
    }
   },
   "outputs": [],
   "source": [
    "# Parameters:\n",
    "MAX_THREAD = multiprocessing.cpu_count() - 1 # keeps system responsive\n",
    "MAX_Q_LENGTH = 42\n",
    "MAX_WORDS = 230000\n",
    "WORD_VEC_LEN = 300 # default glove\n",
    "SPLIT = 0.2 # test_validation split\n",
    "WEIGHT_0 = 0.631 # found after initial analysis\n",
    "WEIGHT_1 = 0.369 "
   ]
  },
  {
   "cell_type": "markdown",
   "metadata": {},
   "source": [
    "## Loading the data\n",
    "* As long as the *train.csv* file is present in the notbook directory, this will load the data.  \n",
    "* We see that there are 404,288 question pairs with 36.9% of them being labelled as duplicates.\n",
    "* Looking at the histogram below, we see that while the majority of questions are unique, i.e. appearing only once, there is a significant tail of questions appearing mutiple times with a maximum of 50 occurrences for a question. This is only the count distribution for the first question and is not a measure of duplicate pairs. It does show however, that Quora enlarged their question pair pool by re-using a significant number of questions by pairing them with a mutitude of other questions."
   ]
  },
  {
   "cell_type": "code",
   "execution_count": 4,
   "metadata": {
    "collapsed": false,
    "jupyter": {
     "outputs_hidden": false
    }
   },
   "outputs": [
    {
     "name": "stdout",
     "output_type": "stream",
     "text": [
      "    qid1  qid2                                          question1  \\\n",
      "id                                                                  \n",
      "0      1     2  What is the step by step guide to invest in sh...   \n",
      "1      3     4  What is the story of Kohinoor (Koh-i-Noor) Dia...   \n",
      "2      5     6  How can I increase the speed of my internet co...   \n",
      "3      7     8  Why am I mentally very lonely? How can I solve...   \n",
      "4      9    10  Which one dissolve in water quikly sugar, salt...   \n",
      "\n",
      "                                            question2  is_duplicate  \n",
      "id                                                                   \n",
      "0   What is the step by step guide to invest in sh...             0  \n",
      "1   What would happen if the Indian government sto...             0  \n",
      "2   How can Internet speed be increased by hacking...             0  \n",
      "3   Find the remainder when [math]23^{24}[/math] i...             0  \n",
      "4             Which fish would survive in salt water?             0  \n",
      "-----------------------\n",
      "Number of question pairs in training set: 404288. \n",
      "This includes 149263 - or 36.9% - duplicates.\n"
     ]
    },
    {
     "data": {
      "text/plain": [
       "(array([  2.36325000e+05,   3.31350000e+04,   1.04910000e+04,\n",
       "          4.03900000e+03,   2.09100000e+03,   1.13600000e+03,\n",
       "          7.62000000e+02,   5.36000000e+02,   3.45000000e+02,\n",
       "          3.16000000e+02,   2.24000000e+02,   1.85000000e+02,\n",
       "          1.42000000e+02,   1.25000000e+02,   9.70000000e+01,\n",
       "          6.80000000e+01,   6.40000000e+01,   6.00000000e+01,\n",
       "          4.40000000e+01,   5.10000000e+01,   3.30000000e+01,\n",
       "          2.30000000e+01,   2.10000000e+01,   1.60000000e+01,\n",
       "          2.30000000e+01,   9.00000000e+00,   7.00000000e+00,\n",
       "          1.20000000e+01,   1.20000000e+01,   1.20000000e+01,\n",
       "          6.00000000e+00,   7.00000000e+00,   2.00000000e+00,\n",
       "          5.00000000e+00,   3.00000000e+00,   5.00000000e+00,\n",
       "          1.00000000e+00,   2.00000000e+00,   3.00000000e+00,\n",
       "          2.00000000e+00,   3.00000000e+00,   4.00000000e+00,\n",
       "          0.00000000e+00,   1.00000000e+00,   2.00000000e+00,\n",
       "          1.00000000e+00,   3.00000000e+00,   1.00000000e+00,\n",
       "          0.00000000e+00,   1.00000000e+00]),\n",
       " array([  1.  ,   1.98,   2.96,   3.94,   4.92,   5.9 ,   6.88,   7.86,\n",
       "          8.84,   9.82,  10.8 ,  11.78,  12.76,  13.74,  14.72,  15.7 ,\n",
       "         16.68,  17.66,  18.64,  19.62,  20.6 ,  21.58,  22.56,  23.54,\n",
       "         24.52,  25.5 ,  26.48,  27.46,  28.44,  29.42,  30.4 ,  31.38,\n",
       "         32.36,  33.34,  34.32,  35.3 ,  36.28,  37.26,  38.24,  39.22,\n",
       "         40.2 ,  41.18,  42.16,  43.14,  44.12,  45.1 ,  46.08,  47.06,\n",
       "         48.04,  49.02,  50.  ]),\n",
       " <a list of 50 Patch objects>)"
      ]
     },
     "execution_count": 4,
     "metadata": {},
     "output_type": "execute_result"
    },
    {
     "data": {
      "image/png": "[encoded data removed]",
      "text/plain": [
       "<matplotlib.figure.Figure at 0x7f3ff1ecfda0>"
      ]
     },
     "metadata": {},
     "output_type": "display_data"
    }
   ],
   "source": [
    "# Check whether data is in project folder and unzip if not\n",
    "# dirname = os.path.split(os.path.abspath(__file__))[0]\n",
    "dfiles = ['train.csv'] # , 'test.csv' only needed for Kaggle submission\n",
    "url = 'https://www.kaggle.com/c/quora-question-pairs/download/'\n",
    "files = os.listdir()\n",
    "for f in dfiles:\n",
    "    if f not in files:\n",
    "        try:\n",
    "            print(f'Extracting {f}.')\n",
    "            tf = f+'.zip'\n",
    "            with zipfile.ZipFile(tf) as z:\n",
    "                z.extractall()\n",
    "            os.remove(tf)\n",
    "        except:\n",
    "            print(f'Could not locate {f} data file, please download from {url}. You will need an acitvated Kaggle account to login.')\n",
    "# get training data set\n",
    "train = pd.read_csv(dfiles[0], index_col='id').dropna()\n",
    "print(train.head())\n",
    "print('-'*23)\n",
    "print(f\"Number of question pairs in training set: {len(train)}. \\nThis includes {train['is_duplicate'].sum()} - or {train['is_duplicate'].mean()*100:.1f}% - duplicates.\")\n",
    "# Show histogram of value_counts\n",
    "plt.hist(train['question1'].value_counts(), bins = 50, log=True)"
   ]
  },
  {
   "cell_type": "code",
   "execution_count": 5,
   "metadata": {
    "collapsed": false,
    "jupyter": {
     "outputs_hidden": false
    }
   },
   "outputs": [
    {
     "name": "stdout",
     "output_type": "stream",
     "text": [
      "51.0\n"
     ]
    },
    {
     "data": {
      "image/png": "[encoded data removed]",
      "text/plain": [
       "<matplotlib.figure.Figure at 0x7f3fef06b128>"
      ]
     },
     "metadata": {},
     "output_type": "display_data"
    },
    {
     "data": {
      "image/png": "[encoded data removed]",
      "text/plain": [
       "<matplotlib.figure.Figure at 0x7f3fef026710>"
      ]
     },
     "metadata": {},
     "output_type": "display_data"
    }
   ],
   "source": [
    "# Show histogram of value_counts\n",
    "plt.hist(train['question1'].value_counts(), bins = 50, log=True)\n",
    "plt.xlabel('Number of occurrences')\n",
    "plt.ylabel('N')\n",
    "\n",
    "qs = train['question1'].append(train['question2'])\n",
    "plt.figure()\n",
    "plt.hist([len(s) for s in qs.values], bins = 50, log=True)\n",
    "plt.xlabel('Number of characters per question')\n",
    "plt.ylabel('N')\n",
    "plt.axvline(np.median([len(s) for s in qs.values]))\n",
    "# plt.xlim([0,10])\n",
    "print(np.median([len(s) for s in qs.values]))"
   ]
  },
  {
   "cell_type": "code",
   "execution_count": 5,
   "metadata": {
    "collapsed": false,
    "jupyter": {
     "outputs_hidden": false
    }
   },
   "outputs": [
    {
     "data": {
      "text/html": [
       "<div>\n",
       "<style>\n",
       "    .dataframe thead tr:only-child th {\n",
       "        text-align: right;\n",
       "    }\n",
       "\n",
       "    .dataframe thead th {\n",
       "        text-align: left;\n",
       "    }\n",
       "\n",
       "    .dataframe tbody tr th {\n",
       "        vertical-align: top;\n",
       "    }\n",
       "</style>\n",
       "<table border=\"1\" class=\"dataframe\">\n",
       "  <thead>\n",
       "    <tr style=\"text-align: right;\">\n",
       "      <th></th>\n",
       "      <th>qid1</th>\n",
       "      <th>qid2</th>\n",
       "      <th>question1</th>\n",
       "      <th>question2</th>\n",
       "      <th>is_duplicate</th>\n",
       "    </tr>\n",
       "    <tr>\n",
       "      <th>id</th>\n",
       "      <th></th>\n",
       "      <th></th>\n",
       "      <th></th>\n",
       "      <th></th>\n",
       "      <th></th>\n",
       "    </tr>\n",
       "  </thead>\n",
       "  <tbody>\n",
       "    <tr>\n",
       "      <th>0</th>\n",
       "      <td>1</td>\n",
       "      <td>2</td>\n",
       "      <td>What is the step by step guide to invest in sh...</td>\n",
       "      <td>What is the step by step guide to invest in sh...</td>\n",
       "      <td>0</td>\n",
       "    </tr>\n",
       "    <tr>\n",
       "      <th>1</th>\n",
       "      <td>3</td>\n",
       "      <td>4</td>\n",
       "      <td>What is the story of Kohinoor (Koh-i-Noor) Dia...</td>\n",
       "      <td>What would happen if the Indian government sto...</td>\n",
       "      <td>0</td>\n",
       "    </tr>\n",
       "    <tr>\n",
       "      <th>2</th>\n",
       "      <td>5</td>\n",
       "      <td>6</td>\n",
       "      <td>How can I increase the speed of my internet co...</td>\n",
       "      <td>How can Internet speed be increased by hacking...</td>\n",
       "      <td>0</td>\n",
       "    </tr>\n",
       "    <tr>\n",
       "      <th>3</th>\n",
       "      <td>7</td>\n",
       "      <td>8</td>\n",
       "      <td>Why am I mentally very lonely? How can I solve...</td>\n",
       "      <td>Find the remainder when [math]23^{24}[/math] i...</td>\n",
       "      <td>0</td>\n",
       "    </tr>\n",
       "    <tr>\n",
       "      <th>4</th>\n",
       "      <td>9</td>\n",
       "      <td>10</td>\n",
       "      <td>Which one dissolve in water quikly sugar, salt...</td>\n",
       "      <td>Which fish would survive in salt water?</td>\n",
       "      <td>0</td>\n",
       "    </tr>\n",
       "  </tbody>\n",
       "</table>\n",
       "</div>"
      ],
      "text/plain": [
       "    qid1  qid2                                          question1  \\\n",
       "id                                                                  \n",
       "0      1     2  What is the step by step guide to invest in sh...   \n",
       "1      3     4  What is the story of Kohinoor (Koh-i-Noor) Dia...   \n",
       "2      5     6  How can I increase the speed of my internet co...   \n",
       "3      7     8  Why am I mentally very lonely? How can I solve...   \n",
       "4      9    10  Which one dissolve in water quikly sugar, salt...   \n",
       "\n",
       "                                            question2  is_duplicate  \n",
       "id                                                                   \n",
       "0   What is the step by step guide to invest in sh...             0  \n",
       "1   What would happen if the Indian government sto...             0  \n",
       "2   How can Internet speed be increased by hacking...             0  \n",
       "3   Find the remainder when [math]23^{24}[/math] i...             0  \n",
       "4             Which fish would survive in salt water?             0  "
      ]
     },
     "execution_count": 5,
     "metadata": {},
     "output_type": "execute_result"
    }
   ],
   "source": [
    "train.head()"
   ]
  },
  {
   "cell_type": "code",
   "execution_count": 6,
   "metadata": {
    "collapsed": false,
    "jupyter": {
     "outputs_hidden": false
    }
   },
   "outputs": [
    {
     "name": "stdout",
     "output_type": "stream",
     "text": [
      "Goal of top 33% requires logloss below 0.3100\n"
     ]
    },
    {
     "data": {
      "text/plain": [
       "<matplotlib.lines.Line2D at 0x7f3fee8affd0>"
      ]
     },
     "execution_count": 6,
     "metadata": {},
     "output_type": "execute_result"
    },
    {
     "data": {
      "image/png": "[encoded data removed]",
      "text/plain": [
       "<matplotlib.figure.Figure at 0x7f3feeb058d0>"
      ]
     },
     "metadata": {},
     "output_type": "display_data"
    }
   ],
   "source": [
    "\n",
    "fname = r'quora-question-pairs_public_leaderboard.csv'\n",
    "df = pd.read_csv(fname)\n",
    "sdf = df.groupby(['TeamId']).min()\n",
    "scores = np.sort(sdf['Score'].values)\n",
    "goal = sdf['Score'].quantile(0.33)\n",
    "print(f'Goal of top 33% requires logloss below {goal:.4f}')\n",
    "plt.plot(scores)\n",
    "plt.semilogy()\n",
    "plt.ylabel('LogLoss')\n",
    "plt.xlabel('Final public Leaderboard rank')\n",
    "plt.axhline(goal, ls='dashed')\n",
    "plt.axhline(0.19, ls='dashdot')\n",
    "plt.axhline(0.277, ls='dotted')"
   ]
  },
  {
   "cell_type": "code",
   "execution_count": 7,
   "metadata": {
    "collapsed": true,
    "jupyter": {
     "outputs_hidden": true
    }
   },
   "outputs": [],
   "source": [
    "train = train[:1000]"
   ]
  },
  {
   "cell_type": "markdown",
   "metadata": {},
   "source": [
    "## Clean the data\n",
    "This is a fairly basic cleaning of the data to prepare it for the tokenizer or lemmatization. "
   ]
  },
  {
   "cell_type": "code",
   "execution_count": 8,
   "metadata": {
    "collapsed": false,
    "jupyter": {
     "outputs_hidden": false
    }
   },
   "outputs": [],
   "source": [
    "# pre process training data, replace common spelling\n",
    "# Mostly common sense, some weird cases taken from Kaggle discussions\n",
    "def clean_text_df(df):\n",
    "    '''Take df and clean up text in question cols.'''\n",
    "    for q in ['question1', 'question2']:\n",
    "        df[q] = df[q].str.lower()\n",
    "        df[q] = df[q].str.replace(\"'s\", \" is\")\n",
    "        df[q] = df[q].str.replace(\"'ll\", \" will\")\n",
    "        df[q] = df[q].str.replace(\"'d \", \" would \")\n",
    "        df[q] = df[q].str.replace(\"can't\", \"cannot\")\n",
    "        df[q] = df[q].str.replace(\"n't\", \" not\")\n",
    "        df[q] = df[q].str.replace(\"i'm\", \"i am\")\n",
    "        df[q] = df[q].str.replace(\" u s \", \"american\")\n",
    "        df[q] = df[q].str.replace(\" e g \", \" eg \")\n",
    "        df[q] = df[q].str.replace(\"e - mail\", \"email\")\n",
    "        # test: remove very common words (could do by tokens, too)\n",
    "#         df[q] = df[q].str.replace(\"what \", \"\")\n",
    "#         df[q] = df[q].str.replace(\" is \", \" \")\n",
    "#         df[q] = df[q].str.replace(\" the \", \" \")\n",
    "\n",
    "\n",
    "# clean training data\n",
    "clean_text_df(train)"
   ]
  },
  {
   "cell_type": "code",
   "execution_count": 7,
   "metadata": {
    "collapsed": false,
    "jupyter": {
     "outputs_hidden": false
    }
   },
   "outputs": [
    {
     "data": {
      "text/html": [
       "<div>\n",
       "<style>\n",
       "    .dataframe thead tr:only-child th {\n",
       "        text-align: right;\n",
       "    }\n",
       "\n",
       "    .dataframe thead th {\n",
       "        text-align: left;\n",
       "    }\n",
       "\n",
       "    .dataframe tbody tr th {\n",
       "        vertical-align: top;\n",
       "    }\n",
       "</style>\n",
       "<table border=\"1\" class=\"dataframe\">\n",
       "  <thead>\n",
       "    <tr style=\"text-align: right;\">\n",
       "      <th></th>\n",
       "      <th>qid1</th>\n",
       "      <th>qid2</th>\n",
       "      <th>question1</th>\n",
       "      <th>question2</th>\n",
       "      <th>is_duplicate</th>\n",
       "    </tr>\n",
       "    <tr>\n",
       "      <th>id</th>\n",
       "      <th></th>\n",
       "      <th></th>\n",
       "      <th></th>\n",
       "      <th></th>\n",
       "      <th></th>\n",
       "    </tr>\n",
       "  </thead>\n",
       "  <tbody>\n",
       "    <tr>\n",
       "      <th>0</th>\n",
       "      <td>1</td>\n",
       "      <td>2</td>\n",
       "      <td>what is the step by step guide to invest in sh...</td>\n",
       "      <td>what is the step by step guide to invest in sh...</td>\n",
       "      <td>0</td>\n",
       "    </tr>\n",
       "    <tr>\n",
       "      <th>1</th>\n",
       "      <td>3</td>\n",
       "      <td>4</td>\n",
       "      <td>what is the story of kohinoor (koh-i-noor) dia...</td>\n",
       "      <td>what would happen if the indian government sto...</td>\n",
       "      <td>0</td>\n",
       "    </tr>\n",
       "    <tr>\n",
       "      <th>2</th>\n",
       "      <td>5</td>\n",
       "      <td>6</td>\n",
       "      <td>how can i increase the speed of my internet co...</td>\n",
       "      <td>how can internet speed be increased by hacking...</td>\n",
       "      <td>0</td>\n",
       "    </tr>\n",
       "    <tr>\n",
       "      <th>3</th>\n",
       "      <td>7</td>\n",
       "      <td>8</td>\n",
       "      <td>why am i mentally very lonely? how can i solve...</td>\n",
       "      <td>find the remainder when [math]23^{24}[/math] i...</td>\n",
       "      <td>0</td>\n",
       "    </tr>\n",
       "    <tr>\n",
       "      <th>4</th>\n",
       "      <td>9</td>\n",
       "      <td>10</td>\n",
       "      <td>which one dissolve in water quikly sugar, salt...</td>\n",
       "      <td>which fish would survive in salt water?</td>\n",
       "      <td>0</td>\n",
       "    </tr>\n",
       "  </tbody>\n",
       "</table>\n",
       "</div>"
      ],
      "text/plain": [
       "    qid1  qid2                                          question1  \\\n",
       "id                                                                  \n",
       "0      1     2  what is the step by step guide to invest in sh...   \n",
       "1      3     4  what is the story of kohinoor (koh-i-noor) dia...   \n",
       "2      5     6  how can i increase the speed of my internet co...   \n",
       "3      7     8  why am i mentally very lonely? how can i solve...   \n",
       "4      9    10  which one dissolve in water quikly sugar, salt...   \n",
       "\n",
       "                                            question2  is_duplicate  \n",
       "id                                                                   \n",
       "0   what is the step by step guide to invest in sh...             0  \n",
       "1   what would happen if the indian government sto...             0  \n",
       "2   how can internet speed be increased by hacking...             0  \n",
       "3   find the remainder when [math]23^{24}[/math] i...             0  \n",
       "4             which fish would survive in salt water?             0  "
      ]
     },
     "execution_count": 7,
     "metadata": {},
     "output_type": "execute_result"
    }
   ],
   "source": [
    "# Check the text after pre-processing\n",
    "train.head()"
   ]
  },
  {
   "cell_type": "markdown",
   "metadata": {},
   "source": [
    "While working with dataframes is convenient initially, we now get the questions into lists to feed them into the tokenizer."
   ]
  },
  {
   "cell_type": "code",
   "execution_count": 9,
   "metadata": {
    "collapsed": true,
    "jupyter": {
     "outputs_hidden": true
    }
   },
   "outputs": [],
   "source": [
    "# assign questions to lists and lemmatize\n",
    "q1 = train['question1'].values\n",
    "q2 = train['question2'].values\n",
    "labels = np.array(train['is_duplicate'].values)\n",
    "\n",
    "#skip lemmatize for now"
   ]
  },
  {
   "cell_type": "markdown",
   "metadata": {},
   "source": [
    "The questions are now tokenized and the reult be fitted on the vocabulary, i.e. the list of all questions. This will provide a means of tfidf normalization, i.e. builds a word index of our vocabulary with the frequency of each word occurring in the vocabulary. There are different ways to go about tokenizing the words. Here I chose the built-in tokenizer provided by Keras.  \n",
    "The reulting lists have to be padded because not all questions are of equal length and the keras input layer requires a matrix, i.e. an array of vectors with identical length."
   ]
  },
  {
   "cell_type": "code",
   "execution_count": 10,
   "metadata": {
    "collapsed": false,
    "jupyter": {
     "outputs_hidden": false
    }
   },
   "outputs": [
    {
     "name": "stdout",
     "output_type": "stream",
     "text": [
      "Unique tokens: 3957\n",
      "Input data shape: (1000, 42)\n",
      "took 0.15395355224609375s.\n"
     ]
    }
   ],
   "source": [
    "# Now tokenize questions; originally used spacy, but had issues with parsing into keras, might retry later\n",
    "# HAve to figure out how to get equivalent spacy word_index\n",
    "start = time()\n",
    "tokenizer = Tokenizer(num_words=MAX_WORDS)\n",
    "tokenizer.fit_on_texts(list(q1) + list(q2)) # might add test questions, but they contain fake text...\n",
    "\n",
    "qs1 = tokenizer.texts_to_sequences(q1)\n",
    "qs2 = tokenizer.texts_to_sequences(q2)\n",
    "# test_qs1 = tokenizer.texts_to_sequences(test_q1)\n",
    "# test_qs2 = tokenizer.texts_to_sequences(test_q2)\n",
    "\n",
    "word_index = tokenizer.word_index\n",
    "print('Unique tokens: {}'.format(len(word_index)))\n",
    "\n",
    "# padding tokens to get matrices with matching sizes\n",
    "X1 = pad_sequences(qs1, maxlen=MAX_Q_LENGTH)\n",
    "X2 = pad_sequences(qs2, maxlen=MAX_Q_LENGTH)\n",
    "print('Input data shape: {}'.format(X1.shape))\n",
    "print('took {}s.'.format(time()-start))"
   ]
  },
  {
   "cell_type": "markdown",
   "metadata": {},
   "source": [
    "One can't use the words or lemmata as a direct input to Keras but has to embed them using a vector representation. Here I am using spacy which utilizes the Glove vector implementation of word vectors having the standard length of 300."
   ]
  },
  {
   "cell_type": "code",
   "execution_count": 11,
   "metadata": {
    "collapsed": false,
    "jupyter": {
     "outputs_hidden": false
    }
   },
   "outputs": [
    {
     "name": "stdout",
     "output_type": "stream",
     "text": [
      "Number of words without vector: 1364\n",
      "took 0.30953049659729004s.\n"
     ]
    }
   ],
   "source": [
    "# embeddings / word vectors\n",
    "# Initally tried spacy solution, but keras/word2vec seems easier?\n",
    "nlp = spacy.load('en_core_web_md')\n",
    "start = time()\n",
    "no_of_words = min(MAX_WORDS, len(word_index))+1\n",
    "\n",
    "vectors = np.zeros((no_of_words, WORD_VEC_LEN))\n",
    "\n",
    "for i, w in enumerate(nlp.pipe(list(word_index.keys()), batch_size=42, n_threads=MAX_THREAD)):\n",
    "    if w.has_vector:\n",
    "        vectors[i] = w.vector\n",
    "# words with missing vectors - better with larger model\n",
    "print('Number of words without vector: %d' % np.sum(np.sum(vectors, axis=1) == 0))\n",
    "print('took {}s.'.format(time()-start))"
   ]
  },
  {
   "cell_type": "markdown",
   "metadata": {},
   "source": [
    "Before feeding the data into any machine learning algorithm, one has to split it into train and test sets."
   ]
  },
  {
   "cell_type": "code",
   "execution_count": 12,
   "metadata": {
    "collapsed": true,
    "jupyter": {
     "outputs_hidden": true
    }
   },
   "outputs": [],
   "source": [
    "# HAve to split train/validation set (can't use sklearn?)\n",
    "random.seed(42)\n",
    "rand = np.random.permutation(len(X1))\n",
    "ind_train = rand[:int(len(X1)*(1-SPLIT))]\n",
    "ind_val = rand[int(len(X1)*(1-SPLIT)):]\n",
    "# train subset\n",
    "X1_train = np.vstack((X1[ind_train], X2[ind_train]))\n",
    "X2_train = np.vstack((X2[ind_train], X1[ind_train]))\n",
    "labels_train = np.concatenate((labels[ind_train], labels[ind_train]))\n",
    "# test subset\n",
    "X1_val = np.vstack((X1[ind_val], X2[ind_val]))\n",
    "X2_val = np.vstack((X2[ind_val], X1[ind_val]))\n",
    "labels_val = np.concatenate((labels[ind_val], labels[ind_val]))\n",
    "\n",
    "val_weights = np.ones(len(labels_val))\n",
    "# Have to weigh duplicates higher because they don't show up 50%\n",
    "val_weights *= WEIGHT_1\n",
    "val_weights[labels_val==0] = WEIGHT_0\n",
    "# also weights for keras model:\n",
    "fit_weights  = {0: WEIGHT_0, 1: WEIGHT_1}"
   ]
  },
  {
   "cell_type": "markdown",
   "metadata": {},
   "source": [
    "### Network layer design\n",
    "The neural network layers are now defined below. The layout below is the best configuration I could find based on the validation score.  \n",
    "A quick summary of the network design:\n",
    "* The parameters define the width of the feature space, though more indirectly than in a RandomForest or GradientDescent algorithm. While a larger number of features tends to improve accuracy, it does increase memory and time requirements and the benefit tends to saturate above 200 for the input layer feature space.\n",
    "* Both inut data sets, the *question1* and the *question2* columns in their pre-processed forms are independently fed to and embedded into the Keras network. They both go through a recurrent network layer, a LSTM layer to be precise. I chose the LSTM layer in the hope of retaining long-term memory because this algorithm is not primarily looking for 'local' patterns as in image pattern recognition but rather is trying to establish global - or long-term - patterns or correlations.\n",
    "* Given that we are interested in a correlation between the two questions making up a question pair, the two input layer stacks are now merged by concatenating them.\n",
    "* This is followed by a dropout layer to reduce overfitting and a normalization layer.\n",
    "* Using another lstm layer on the merged stack proved to improve the accuracy.\n",
    "* After that, a Maxout layer is used to reduce the feature space with minimal information loss, followed by a dense layer and finally the output activation."
   ]
  },
  {
   "cell_type": "code",
   "execution_count": 13,
   "metadata": {
    "collapsed": false,
    "jupyter": {
     "outputs_hidden": false
    }
   },
   "outputs": [
    {
     "name": "stderr",
     "output_type": "stream",
     "text": [
      "/home/seb/anaconda2/envs/py36/lib/python3.6/site-packages/keras/legacy/layers.py:525: UserWarning: The `MaxoutDense` layer is deprecated and will be removed after 06/2017.\n",
      "  warnings.warn('The `MaxoutDense` layer is deprecated '\n"
     ]
    }
   ],
   "source": [
    "# Now finally get to the ML part, setup keras network layout:\n",
    "# First some params for the model:\n",
    "lstm_units = 200 # \n",
    "dense_units = 150 # \n",
    "lstm_drop = 0.25\n",
    "dense_drop = 0.25\n",
    "                          \n",
    "emb_layer = Embedding(no_of_words,\n",
    "        WORD_VEC_LEN,\n",
    "        weights=[vectors],\n",
    "        input_length=MAX_Q_LENGTH,\n",
    "        trainable=False)\n",
    "lstm_layer = LSTM(lstm_units, dropout=lstm_drop, recurrent_dropout=lstm_drop, return_sequences=True)\n",
    "# input layers; both questions go through an lstm independently after mebedding\n",
    "q1_in = Input(shape=(MAX_Q_LENGTH,), dtype='int32')\n",
    "emb_layer_1 = emb_layer(q1_in)\n",
    "X_1 = lstm_layer(emb_layer_1)\n",
    "q2_in = Input(shape=(MAX_Q_LENGTH,), dtype='int32')\n",
    "emb_layer_2 = emb_layer(q2_in)\n",
    "X_2 = lstm_layer(emb_layer_2)\n",
    "# Merging: concatenate q1 and q2 layers\n",
    "conc = concatenate([X_1, X_2]) # \n",
    "conc = Dropout(dense_drop)(conc)\n",
    "conc = BatchNormalization()(conc)\n",
    "\n",
    "# add lstm for merged layer\n",
    "conc = LSTM(lstm_units, return_sequences=False)(conc)\n",
    "conc = Dropout(0.25)(conc)\n",
    "conc = BatchNormalization()(conc)\n",
    "\n",
    "conc = MaxoutDense(125)(conc)\n",
    "conc = Dropout(dense_drop)(conc)\n",
    "conc = BatchNormalization()(conc)\n",
    "\n",
    "conc = Dense(dense_units, activation='relu')(conc)\n",
    "conc = Dropout(dense_drop)(conc)\n",
    "# print(conc.shape)\n",
    "\n",
    "pred = Dense(1, activation='sigmoid')(conc)\n"
   ]
  },
  {
   "cell_type": "code",
   "execution_count": 14,
   "metadata": {
    "collapsed": false,
    "jupyter": {
     "outputs_hidden": false
    }
   },
   "outputs": [],
   "source": [
    "from keras.utils import plot_model\n",
    "model = Model(inputs=[q1_in, q2_in], outputs=pred)\n",
    "model.compile(loss='binary_crossentropy', optimizer='nadam', metrics=['acc'])\n",
    "plot_model(model, to_file='model.png')"
   ]
  },
  {
   "cell_type": "markdown",
   "metadata": {},
   "source": [
    "### Train the network\n",
    "* Feed the prepared date to the Keras model and fit it. Use *binary crossentropy* for the accuracy score, consistent with the *log loss* used for the Kaggle competition.\n",
    "* The model is set to automatically stop if the validation accuracy did not improve for 5 epochs, avoiding unnecessary computation time.\n",
    "* The parameters used here might not work on some systems, reducing the batch size will help when running out of memory but increase running time. The training took just under 150min on an AWS EC2 p2 gpu instance."
   ]
  },
  {
   "cell_type": "code",
   "execution_count": 14,
   "metadata": {
    "collapsed": false,
    "jupyter": {
     "outputs_hidden": false
    }
   },
   "outputs": [
    {
     "name": "stdout",
     "output_type": "stream",
     "text": [
      "Model hyperparameters are: 200.00, 150.00, 0.25, 0.25\n",
      "Train on 646860 samples, validate on 161716 samples\n",
      "Epoch 1/30\n",
      "646860/646860 [==============================] - 422s - loss: 0.2478 - acc: 0.7166 - val_loss: 0.2854 - val_acc: 0.6311\n",
      "Epoch 2/30\n",
      "646860/646860 [==============================] - 423s - loss: 0.2273 - acc: 0.7493 - val_loss: 0.2291 - val_acc: 0.7528\n",
      "Epoch 3/30\n",
      "646860/646860 [==============================] - 423s - loss: 0.2162 - acc: 0.7653 - val_loss: 0.2169 - val_acc: 0.7800\n",
      "Epoch 4/30\n",
      "646860/646860 [==============================] - 423s - loss: 0.2074 - acc: 0.7763 - val_loss: 0.2106 - val_acc: 0.7800\n",
      "Epoch 5/30\n",
      "646860/646860 [==============================] - 423s - loss: 0.2004 - acc: 0.7859 - val_loss: 0.2066 - val_acc: 0.7891\n",
      "Epoch 6/30\n",
      "646860/646860 [==============================] - 422s - loss: 0.1945 - acc: 0.7934 - val_loss: 0.2087 - val_acc: 0.7943\n",
      "Epoch 7/30\n",
      "646860/646860 [==============================] - 422s - loss: 0.1896 - acc: 0.7995 - val_loss: 0.2067 - val_acc: 0.8024\n",
      "Epoch 8/30\n",
      "646860/646860 [==============================] - 423s - loss: 0.1849 - acc: 0.8071 - val_loss: 0.2026 - val_acc: 0.8050\n",
      "Epoch 9/30\n",
      "646860/646860 [==============================] - 422s - loss: 0.1811 - acc: 0.8117 - val_loss: 0.1941 - val_acc: 0.8018\n",
      "Epoch 10/30\n",
      "646860/646860 [==============================] - 423s - loss: 0.1774 - acc: 0.8167 - val_loss: 0.2056 - val_acc: 0.8076\n",
      "Epoch 11/30\n",
      "646860/646860 [==============================] - 423s - loss: 0.1748 - acc: 0.8197 - val_loss: 0.2161 - val_acc: 0.8019\n",
      "Epoch 12/30\n",
      "646860/646860 [==============================] - 422s - loss: 0.1716 - acc: 0.8238 - val_loss: 0.2071 - val_acc: 0.8091\n",
      "Epoch 13/30\n",
      "646860/646860 [==============================] - 423s - loss: 0.1691 - acc: 0.8271 - val_loss: 0.1917 - val_acc: 0.8120\n",
      "Epoch 14/30\n",
      "646860/646860 [==============================] - 422s - loss: 0.1671 - acc: 0.8297 - val_loss: 0.1988 - val_acc: 0.8119\n",
      "Epoch 15/30\n",
      "646860/646860 [==============================] - 423s - loss: 0.1653 - acc: 0.8320 - val_loss: 0.1903 - val_acc: 0.8131\n",
      "Epoch 16/30\n",
      "646860/646860 [==============================] - 422s - loss: 0.1629 - acc: 0.8354 - val_loss: 0.1941 - val_acc: 0.8165\n",
      "Epoch 17/30\n",
      "646860/646860 [==============================] - 422s - loss: 0.1612 - acc: 0.8365 - val_loss: 0.2006 - val_acc: 0.8139\n",
      "Epoch 18/30\n",
      "646860/646860 [==============================] - 422s - loss: 0.1593 - acc: 0.8391 - val_loss: 0.1925 - val_acc: 0.8168\n",
      "Epoch 19/30\n",
      "646860/646860 [==============================] - 422s - loss: 0.1578 - acc: 0.8414 - val_loss: 0.1929 - val_acc: 0.8176\n",
      "Epoch 20/30\n",
      "646860/646860 [==============================] - 422s - loss: 0.1567 - acc: 0.8422 - val_loss: 0.1976 - val_acc: 0.8155\n",
      "Epoch 21/30\n",
      "646860/646860 [==============================] - 422s - loss: 0.1553 - acc: 0.8437 - val_loss: 0.1913 - val_acc: 0.8172\n"
     ]
    }
   ],
   "source": [
    "# Now train model, get score history and save best one\n",
    "\n",
    "fit_batch = 2048\n",
    "pred_batch = 2048\n",
    "epochs = 30\n",
    "model = Model(inputs=[q1_in, q2_in], outputs=pred)\n",
    "model.compile(loss='binary_crossentropy', optimizer='nadam', metrics=['acc'])\n",
    "#model.summary()\n",
    "print('Model hyperparameters are: {:.2f}, {:.2f}, {:.2f}, {:.2f}'.format(lstm_units, dense_units, lstm_drop, dense_drop))\n",
    "\n",
    "stop = EarlyStopping(monitor='val_loss', patience=5)\n",
    "best_save = 'ud_merged_lstm_act+maxout_rem_stop_{:.2f}_{:.2f}__'.format(lstm_units, dense_units) + '_'.join(map(str,localtime()[3:6])) + '.h5'\n",
    "chkpt = ModelCheckpoint(best_save, save_best_only=True, save_weights_only=True)\n",
    "\n",
    "hist = model.fit([X1_train, X2_train], labels_train,\n",
    "                 validation_data=([X1_val, X2_val], labels_val, val_weights),\n",
    "                 epochs=epochs, batch_size=fit_batch, shuffle=True,\n",
    "                 class_weight=fit_weights, callbacks=[stop, chkpt])\n"
   ]
  },
  {
   "cell_type": "markdown",
   "metadata": {},
   "source": [
    "### Result\n",
    "The best cross entropy validation score I could get was 0.19, which is well below the ~0.31 goal I set myself in the capstone proposal based on the scores of the top 30% in the Kaggle competition. As mentioned in the introduction, the comparison between scores of the validation split of the *train* data and the submissions based on the *test* data is somewhat biased. This is due to the fact that submissions to the competition have features tailored to predict the *test* data set which differs significantly from the *train* data or any subset of it. Using this model I was able to achieve a Kaggle accuracy score of 0.277, which is significantly higher than the validation score yet still beating my initial benchmark."
   ]
  },
  {
   "cell_type": "code",
   "execution_count": 15,
   "metadata": {
    "collapsed": false,
    "jupyter": {
     "outputs_hidden": false
    }
   },
   "outputs": [
    {
     "data": {
      "text/plain": [
       "<matplotlib.legend.Legend at 0x7f83f864a080>"
      ]
     },
     "execution_count": 15,
     "metadata": {},
     "output_type": "execute_result"
    },
    {
     "data": {
      "image/png": "[encoded data removed]",
      "text/plain": [
       "<matplotlib.figure.Figure at 0x7f83fa97d2e8>"
      ]
     },
     "metadata": {},
     "output_type": "display_data"
    }
   ],
   "source": [
    "plt.plot(hist.history['loss'],'b.-', label='loss')\n",
    "plt.plot(hist.history['acc'],'b.-', label='acc')\n",
    "plt.plot(hist.history['val_acc'],'r.-', label='val_acc')\n",
    "plt.plot(hist.history['val_loss'],'r.-', label='val_loss')\n",
    "plt.xlabel('epoch')\n",
    "plt.legend()\n",
    "best_score = min(hist.history['val_loss'])\n",
    "print('Best score was {}.'.format(best_score))"
   ]
  }
 ],
 "metadata": {
  "kernelspec": {
   "display_name": "Python 3",
   "language": "python",
   "name": "python3"
  },
  "language_info": {
   "codemirror_mode": {
    "name": "ipython",
    "version": 3
   },
   "file_extension": ".py",
   "mimetype": "text/x-python",
   "name": "python",
   "nbconvert_exporter": "python",
   "pygments_lexer": "ipython3",
   "version": "3.7.6"
  }
 },
 "nbformat": 4,
 "nbformat_minor": 4
}
